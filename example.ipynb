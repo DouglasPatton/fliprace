{
 "cells": [
  {
   "cell_type": "code",
   "execution_count": 1,
   "metadata": {},
   "outputs": [],
   "source": [
    "import fliprace"
   ]
  },
  {
   "cell_type": "code",
   "execution_count": 2,
   "metadata": {},
   "outputs": [
    {
     "name": "stdout",
     "output_type": "stream",
     "text": [
      "patternlist['00', '01']\n",
      "wrapper starting idx:0\n",
      "wrapper starting idx:1\n",
      "pattern#0(00) has score:6.029\n",
      "pattern#1(01) has score:4.05\n"
     ]
    }
   ],
   "source": [
    "trial1=fliprace.FlipRace()\n",
    "trial1.pattern_search()\n"
   ]
  },
  {
   "cell_type": "code",
   "execution_count": 3,
   "metadata": {},
   "outputs": [
    {
     "data": {
      "text/plain": [
       "['0000', '0001', '0010', '0011', '0100', '0101', '0110', '0111']"
      ]
     },
     "execution_count": 3,
     "metadata": {},
     "output_type": "execute_result"
    }
   ],
   "source": [
    "trial1.build_pattern_combos(4,sides=2)"
   ]
  },
  {
   "cell_type": "code",
   "execution_count": 4,
   "metadata": {},
   "outputs": [
    {
     "name": "stdout",
     "output_type": "stream",
     "text": [
      "patternlist['000', '001', '010', '011']\n",
      "wrapper starting idx:0\n",
      "wrapper starting idx:1\n",
      "wrapper starting idx:2\n",
      "wrapper starting idx:3\n",
      "pattern#0(000) has score:13.67\n",
      "pattern#1(001) has score:7.828\n",
      "pattern#2(010) has score:9.547\n",
      "pattern#3(011) has score:8.045\n"
     ]
    }
   ],
   "source": [
    "patternlist=['000','001','010','011']\n",
    "trial2=fliprace.FlipRace().pattern_search(patternlist=patternlist)"
   ]
  },
  {
   "cell_type": "code",
   "execution_count": null,
   "metadata": {},
   "outputs": [
    {
     "name": "stdout",
     "output_type": "stream",
     "text": [
      "patternlist['0000', '0001', '0010', '0011', '0100', '0101', '0110', '0111']\n"
     ]
    }
   ],
   "source": [
    "trial3=fliprace.FlipRace()\n",
    "trial3.pattern_search(patternlist=trial3.build_pattern_combos(4,sides=2))"
   ]
  },
  {
   "cell_type": "code",
   "execution_count": null,
   "metadata": {},
   "outputs": [],
   "source": [
    "trial4=fliprace.FlipRace()\n",
    "trial4.pattern_search(patternlist=trial4.build_pattern_combos(5,sides=2))"
   ]
  },
  {
   "cell_type": "code",
   "execution_count": null,
   "metadata": {},
   "outputs": [],
   "source": []
  }
 ],
 "metadata": {
  "kernelspec": {
   "display_name": "Python 3",
   "language": "python",
   "name": "python3"
  },
  "language_info": {
   "codemirror_mode": {
    "name": "ipython",
    "version": 3
   },
   "file_extension": ".py",
   "mimetype": "text/x-python",
   "name": "python",
   "nbconvert_exporter": "python",
   "pygments_lexer": "ipython3",
   "version": "3.7.4"
  }
 },
 "nbformat": 4,
 "nbformat_minor": 4
}
